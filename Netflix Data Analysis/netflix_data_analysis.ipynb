{
 "cells": [
  {
   "cell_type": "code",
   "execution_count": null,
   "id": "135f1473",
   "metadata": {},
   "outputs": [],
   "source": [
    "# Importing libraries"
   ]
  },
  {
   "cell_type": "code",
   "execution_count": null,
   "id": "3dc775ae",
   "metadata": {},
   "outputs": [],
   "source": [
    "import numpy as np\n",
    "import pandas as pd\n",
    "import matplotlib.pyplot as plt\n",
    "import seaborn as sns"
   ]
  },
  {
   "cell_type": "code",
   "execution_count": null,
   "id": "14cb0560",
   "metadata": {},
   "outputs": [],
   "source": [
    "# Load the dataset"
   ]
  },
  {
   "cell_type": "code",
   "execution_count": null,
   "id": "ef0cddf9",
   "metadata": {},
   "outputs": [],
   "source": [
    "df = pd.read_csv('mymoviedb.csv', lineterminator='\\n')\n",
    "df.head()"
   ]
  },
  {
   "cell_type": "code",
   "execution_count": null,
   "id": "f276e39a",
   "metadata": {},
   "outputs": [],
   "source": [
    "# Check dataset info"
   ]
  },
  {
   "cell_type": "code",
   "execution_count": null,
   "id": "868a18c1",
   "metadata": {},
   "outputs": [],
   "source": [
    "df.info()"
   ]
  },
  {
   "cell_type": "code",
   "execution_count": null,
   "id": "54a53f40",
   "metadata": {},
   "outputs": [],
   "source": [
    "# Check first few rows of Genre"
   ]
  },
  {
   "cell_type": "code",
   "execution_count": null,
   "id": "bff1751d",
   "metadata": {},
   "outputs": [],
   "source": [
    "df['Genre'].head()"
   ]
  },
  {
   "cell_type": "code",
   "execution_count": null,
   "id": "0d57db45",
   "metadata": {},
   "outputs": [],
   "source": [
    "# Check for duplicate rows"
   ]
  },
  {
   "cell_type": "code",
   "execution_count": null,
   "id": "8d84c802",
   "metadata": {},
   "outputs": [],
   "source": [
    "df.duplicated().sum()"
   ]
  },
  {
   "cell_type": "code",
   "execution_count": null,
   "id": "e3e3a4c0",
   "metadata": {},
   "outputs": [],
   "source": [
    "# Summary statistics"
   ]
  },
  {
   "cell_type": "code",
   "execution_count": null,
   "id": "fa7e3adf",
   "metadata": {},
   "outputs": [],
   "source": [
    "df.describe()"
   ]
  },
  {
   "cell_type": "code",
   "execution_count": null,
   "id": "05ab6575",
   "metadata": {},
   "outputs": [],
   "source": [
    "# Convert Release_Date to datetime and extract year"
   ]
  },
  {
   "cell_type": "code",
   "execution_count": null,
   "id": "1c783cfe",
   "metadata": {},
   "outputs": [],
   "source": [
    "df['Release_Date'] = pd.to_datetime(df['Release_Date'])\n",
    "df['Release_Date'] = df['Release_Date'].dt.year"
   ]
  },
  {
   "cell_type": "code",
   "execution_count": null,
   "id": "01845299",
   "metadata": {},
   "outputs": [],
   "source": [
    "# Drop unnecessary columns"
   ]
  },
  {
   "cell_type": "code",
   "execution_count": null,
   "id": "3345ea67",
   "metadata": {},
   "outputs": [],
   "source": [
    "cols = ['Overview', 'Original_Language', 'Poster_Url']\n",
    "df.drop(cols, axis=1, inplace=True)"
   ]
  },
  {
   "cell_type": "code",
   "execution_count": null,
   "id": "0e92a8d8",
   "metadata": {},
   "outputs": [],
   "source": [
    "# Categorize Vote_Average into labels"
   ]
  },
  {
   "cell_type": "code",
   "execution_count": null,
   "id": "d66eca82",
   "metadata": {},
   "outputs": [],
   "source": [
    "def catigorize_col(df, col, labels):\n",
    "    \"\"\"\n",
    "    Categorizes a column based on its quartiles.\n",
    "    \"\"\"\n",
    "    edges = [df[col].describe()['min'],\n",
    "             df[col].describe()['25%'],\n",
    "             df[col].describe()['50%'],\n",
    "             df[col].describe()['75%'],\n",
    "             df[col].describe()['max']]\n",
    "    df[col] = pd.cut(df[col], edges, labels=labels, duplicates='drop')\n",
    "    return df"
   ]
  },
  {
   "cell_type": "code",
   "execution_count": null,
   "id": "ef34b8a0",
   "metadata": {},
   "outputs": [],
   "source": [
    "labels = ['not_popular', 'below_avg', 'average', 'popular']\n",
    "df = catigorize_col(df, 'Vote_Average', labels)"
   ]
  },
  {
   "cell_type": "code",
   "execution_count": null,
   "id": "038c232a",
   "metadata": {},
   "outputs": [],
   "source": [
    "# Drop NaNs"
   ]
  },
  {
   "cell_type": "code",
   "execution_count": null,
   "id": "e4faec4c",
   "metadata": {},
   "outputs": [],
   "source": [
    "df.dropna(inplace=True)"
   ]
  },
  {
   "cell_type": "code",
   "execution_count": null,
   "id": "1f1a8c92",
   "metadata": {},
   "outputs": [],
   "source": [
    "# Split Genre into list and explode"
   ]
  },
  {
   "cell_type": "code",
   "execution_count": null,
   "id": "b975a1dd",
   "metadata": {},
   "outputs": [],
   "source": [
    "df['Genre'] = df['Genre'].str.split(', ')\n",
    "df = df.explode('Genre').reset_index(drop=True)"
   ]
  },
  {
   "cell_type": "code",
   "execution_count": null,
   "id": "5702675f",
   "metadata": {},
   "outputs": [],
   "source": [
    "# Convert Genre to category"
   ]
  },
  {
   "cell_type": "code",
   "execution_count": null,
   "id": "5598b599",
   "metadata": {},
   "outputs": [],
   "source": [
    "df['Genre'] = df['Genre'].astype('category')"
   ]
  },
  {
   "cell_type": "code",
   "execution_count": null,
   "id": "16443503",
   "metadata": {},
   "outputs": [],
   "source": [
    "# Summary after cleaning"
   ]
  },
  {
   "cell_type": "code",
   "execution_count": null,
   "id": "258bcb1c",
   "metadata": {},
   "outputs": [],
   "source": [
    "df.info()"
   ]
  },
  {
   "cell_type": "code",
   "execution_count": null,
   "id": "1b1f60b1",
   "metadata": {},
   "outputs": [],
   "source": [
    "# Setup seaborn"
   ]
  },
  {
   "cell_type": "code",
   "execution_count": null,
   "id": "d089a2be",
   "metadata": {},
   "outputs": [],
   "source": [
    "sns.set_style('whitegrid')"
   ]
  },
  {
   "cell_type": "code",
   "execution_count": null,
   "id": "af5f5b33",
   "metadata": {},
   "outputs": [],
   "source": [
    "# Q1: Most frequent genre"
   ]
  },
  {
   "cell_type": "code",
   "execution_count": null,
   "id": "c89519bc",
   "metadata": {},
   "outputs": [],
   "source": [
    "print(df['Genre'].describe())\n",
    "sns.catplot(y='Genre', data=df, kind='count',\n",
    "            order=df['Genre'].value_counts().index,\n",
    "            color='#4287f5')\n",
    "plt.title('Genre Distribution')\n",
    "plt.show()"
   ]
  },
  {
   "cell_type": "code",
   "execution_count": null,
   "id": "078ff4fd",
   "metadata": {},
   "outputs": [],
   "source": [
    "# Q2: Genres by vote average"
   ]
  },
  {
   "cell_type": "code",
   "execution_count": null,
   "id": "cc2f9b37",
   "metadata": {},
   "outputs": [],
   "source": [
    "sns.catplot(y='Vote_Average', data=df, kind='count',\n",
    "            order=df['Vote_Average'].value_counts().index,\n",
    "            color='#4287f5')\n",
    "plt.title('Votes Distribution')\n",
    "plt.show()"
   ]
  },
  {
   "cell_type": "code",
   "execution_count": null,
   "id": "dd8453bd",
   "metadata": {},
   "outputs": [],
   "source": [
    "# Q3: Movie with highest popularity"
   ]
  },
  {
   "cell_type": "code",
   "execution_count": null,
   "id": "596b0652",
   "metadata": {},
   "outputs": [],
   "source": [
    "print(df[df['Popularity'] == df['Popularity'].max()])"
   ]
  },
  {
   "cell_type": "code",
   "execution_count": null,
   "id": "e0777592",
   "metadata": {},
   "outputs": [],
   "source": [
    "# Q4: Movie with lowest popularity"
   ]
  },
  {
   "cell_type": "code",
   "execution_count": null,
   "id": "e2bda8f3",
   "metadata": {},
   "outputs": [],
   "source": [
    "print(df[df['Popularity'] == df['Popularity'].min()])"
   ]
  },
  {
   "cell_type": "code",
   "execution_count": null,
   "id": "c190875f",
   "metadata": {},
   "outputs": [],
   "source": [
    "# Q5: Year with most films"
   ]
  },
  {
   "cell_type": "code",
   "execution_count": null,
   "id": "d7beb253",
   "metadata": {},
   "outputs": [],
   "source": [
    "df['Release_Date'].hist()\n",
    "plt.title('Movies Released per Year')\n",
    "plt.xlabel('Year')\n",
    "plt.ylabel('Count')\n",
    "plt.show()"
   ]
  }
 ],
 "metadata": {},
 "nbformat": 4,
 "nbformat_minor": 5
}